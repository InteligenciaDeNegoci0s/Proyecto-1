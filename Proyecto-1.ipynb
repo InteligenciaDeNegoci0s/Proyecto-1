{
 "cells": [
  {
   "cell_type": "code",
   "execution_count": 8,
   "id": "3b60afc7-2ecb-4a8a-a2f1-39aa3dc22b99",
   "metadata": {},
   "outputs": [],
   "source": [
    "import re, string\n",
    "import numpy as np\n",
    "import pandas as pd\n",
    "import matplotlib.pyplot as plt\n",
    "from unidecode import unidecode\n",
    "\n",
    "from sklearn.model_selection import train_test_split\n",
    "from sklearn.feature_extraction.text import TfidfVectorizer\n",
    "from sklearn.utils import resample\n"
   ]
  },
  {
   "cell_type": "code",
   "execution_count": 9,
   "id": "34f0c916-c58d-4a8c-8ee4-469170d239c6",
   "metadata": {},
   "outputs": [
    {
     "data": {
      "text/html": [
       "<div>\n",
       "<style scoped>\n",
       "    .dataframe tbody tr th:only-of-type {\n",
       "        vertical-align: middle;\n",
       "    }\n",
       "\n",
       "    .dataframe tbody tr th {\n",
       "        vertical-align: top;\n",
       "    }\n",
       "\n",
       "    .dataframe thead th {\n",
       "        text-align: right;\n",
       "    }\n",
       "</style>\n",
       "<table border=\"1\" class=\"dataframe\">\n",
       "  <thead>\n",
       "    <tr style=\"text-align: right;\">\n",
       "      <th></th>\n",
       "      <th>texto</th>\n",
       "      <th>ods</th>\n",
       "    </tr>\n",
       "  </thead>\n",
       "  <tbody>\n",
       "    <tr>\n",
       "      <th>0</th>\n",
       "      <td>\"Aprendizaje\" y \"educación\" se consideran sinó...</td>\n",
       "      <td>4</td>\n",
       "    </tr>\n",
       "    <tr>\n",
       "      <th>1</th>\n",
       "      <td>Para los niños más pequeños (bebés y niños peq...</td>\n",
       "      <td>4</td>\n",
       "    </tr>\n",
       "    <tr>\n",
       "      <th>2</th>\n",
       "      <td>Además, la formación de especialistas en medic...</td>\n",
       "      <td>3</td>\n",
       "    </tr>\n",
       "    <tr>\n",
       "      <th>3</th>\n",
       "      <td>En los países de la OCDE se tiende a pasar de ...</td>\n",
       "      <td>4</td>\n",
       "    </tr>\n",
       "    <tr>\n",
       "      <th>4</th>\n",
       "      <td>Este grupo se centró en las personas que padec...</td>\n",
       "      <td>3</td>\n",
       "    </tr>\n",
       "  </tbody>\n",
       "</table>\n",
       "</div>"
      ],
      "text/plain": [
       "                                               texto  ods\n",
       "0  \"Aprendizaje\" y \"educación\" se consideran sinó...    4\n",
       "1  Para los niños más pequeños (bebés y niños peq...    4\n",
       "2  Además, la formación de especialistas en medic...    3\n",
       "3  En los países de la OCDE se tiende a pasar de ...    4\n",
       "4  Este grupo se centró en las personas que padec...    3"
      ]
     },
     "execution_count": 9,
     "metadata": {},
     "output_type": "execute_result"
    }
   ],
   "source": [
    "# Cargar archivo de Excel con la hoja principal\n",
    "df = pd.read_excel(\"Datos_proyecto.xlsx\", sheet_name=\"Sheet1\")\n",
    "\n",
    "# Renombrar columnas para que tengan nombres claros\n",
    "df = df.rename(columns={\"textos\": \"texto\", \"labels\": \"ods\"})\n",
    "\n",
    "df.head()"
   ]
  },
  {
   "cell_type": "markdown",
   "id": "ebaebfe1-d87b-40ea-88ba-69eb1928a87d",
   "metadata": {},
   "source": [
    "# ENTENDIMIENTO (perfilamiento)"
   ]
  },
  {
   "cell_type": "markdown",
   "id": "49d7f034-86fa-484c-a960-6281946e2aa1",
   "metadata": {},
   "source": [
    "## Vista rápida"
   ]
  },
  {
   "cell_type": "code",
   "execution_count": 14,
   "id": "832c2006-20cd-4718-91c7-fe93ea09e274",
   "metadata": {},
   "outputs": [
    {
     "name": "stdout",
     "output_type": "stream",
     "text": [
      "Forma del dataset: (2424, 4)\n",
      "Columnas: ['texto', 'ods', 'len_chars', 'len_words']\n",
      "Tipos de datos:\n",
      " texto        object\n",
      "ods           int64\n",
      "len_chars     int64\n",
      "len_words     int64\n",
      "dtype: object\n",
      "Nulos:\n",
      " texto        0\n",
      "ods          0\n",
      "len_chars    0\n",
      "len_words    0\n",
      "dtype: int64\n",
      "Ejemplo de filas:\n"
     ]
    },
    {
     "data": {
      "text/html": [
       "<div>\n",
       "<style scoped>\n",
       "    .dataframe tbody tr th:only-of-type {\n",
       "        vertical-align: middle;\n",
       "    }\n",
       "\n",
       "    .dataframe tbody tr th {\n",
       "        vertical-align: top;\n",
       "    }\n",
       "\n",
       "    .dataframe thead th {\n",
       "        text-align: right;\n",
       "    }\n",
       "</style>\n",
       "<table border=\"1\" class=\"dataframe\">\n",
       "  <thead>\n",
       "    <tr style=\"text-align: right;\">\n",
       "      <th></th>\n",
       "      <th>texto</th>\n",
       "      <th>ods</th>\n",
       "      <th>len_chars</th>\n",
       "      <th>len_words</th>\n",
       "    </tr>\n",
       "  </thead>\n",
       "  <tbody>\n",
       "    <tr>\n",
       "      <th>2052</th>\n",
       "      <td>Disponibilidad de los resultados de las evalua...</td>\n",
       "      <td>4</td>\n",
       "      <td>989</td>\n",
       "      <td>149</td>\n",
       "    </tr>\n",
       "    <tr>\n",
       "      <th>743</th>\n",
       "      <td>El capítulo también examina la coherencia y co...</td>\n",
       "      <td>4</td>\n",
       "      <td>1198</td>\n",
       "      <td>179</td>\n",
       "    </tr>\n",
       "    <tr>\n",
       "      <th>1968</th>\n",
       "      <td>Establecer una expectativa de mejora continua ...</td>\n",
       "      <td>4</td>\n",
       "      <td>809</td>\n",
       "      <td>125</td>\n",
       "    </tr>\n",
       "    <tr>\n",
       "      <th>1388</th>\n",
       "      <td>No hay centros especiales para alumnos con dif...</td>\n",
       "      <td>4</td>\n",
       "      <td>954</td>\n",
       "      <td>138</td>\n",
       "    </tr>\n",
       "    <tr>\n",
       "      <th>1983</th>\n",
       "      <td>Se desarrolló a finales de la década de 1960 e...</td>\n",
       "      <td>4</td>\n",
       "      <td>690</td>\n",
       "      <td>109</td>\n",
       "    </tr>\n",
       "  </tbody>\n",
       "</table>\n",
       "</div>"
      ],
      "text/plain": [
       "                                                  texto  ods  len_chars  \\\n",
       "2052  Disponibilidad de los resultados de las evalua...    4        989   \n",
       "743   El capítulo también examina la coherencia y co...    4       1198   \n",
       "1968  Establecer una expectativa de mejora continua ...    4        809   \n",
       "1388  No hay centros especiales para alumnos con dif...    4        954   \n",
       "1983  Se desarrolló a finales de la década de 1960 e...    4        690   \n",
       "\n",
       "      len_words  \n",
       "2052        149  \n",
       "743         179  \n",
       "1968        125  \n",
       "1388        138  \n",
       "1983        109  "
      ]
     },
     "metadata": {},
     "output_type": "display_data"
    }
   ],
   "source": [
    "def ver_forma(df):\n",
    "    return df.shape\n",
    "\n",
    "def ver_columnas(df):\n",
    "    return df.columns.tolist()\n",
    "\n",
    "def ver_tipos(df):\n",
    "    return df.dtypes\n",
    "\n",
    "def ver_nulos(df):\n",
    "    return df.isna().sum().sort_values(ascending=False)\n",
    "\n",
    "def ver_muestra(df, n=5, seed=0):\n",
    "    return df.sample(min(n, len(df)), random_state=seed)\n",
    "\n",
    "print(\"Forma del dataset:\", ver_forma(df))\n",
    "print(\"Columnas:\", ver_columnas(df))\n",
    "print(\"Tipos de datos:\\n\", ver_tipos(df))\n",
    "print(\"Nulos:\\n\", ver_nulos(df))\n",
    "print(\"Ejemplo de filas:\")\n",
    "display(ver_muestra(df, n=5))\n"
   ]
  },
  {
   "cell_type": "markdown",
   "id": "ebcdcc7e-cac0-4e9b-a3e9-9cd801e1a4ea",
   "metadata": {},
   "source": [
    "Resultado: Se ve el tamaño (filas, columnas), lista de columnas, tipos de datos, nulos por columna y 5 ejemplos de opiniones."
   ]
  },
  {
   "cell_type": "markdown",
   "id": "84d1227e-0cd6-41b5-a598-c60456c80ce8",
   "metadata": {},
   "source": [
    "## Longitudes de texto"
   ]
  },
  {
   "cell_type": "code",
   "execution_count": 11,
   "id": "a66ca203-66f8-402c-a012-2c205e2f8929",
   "metadata": {},
   "outputs": [
    {
     "name": "stdout",
     "output_type": "stream",
     "text": [
      "Resumen de longitudes:\n"
     ]
    },
    {
     "data": {
      "text/html": [
       "<div>\n",
       "<style scoped>\n",
       "    .dataframe tbody tr th:only-of-type {\n",
       "        vertical-align: middle;\n",
       "    }\n",
       "\n",
       "    .dataframe tbody tr th {\n",
       "        vertical-align: top;\n",
       "    }\n",
       "\n",
       "    .dataframe thead th {\n",
       "        text-align: right;\n",
       "    }\n",
       "</style>\n",
       "<table border=\"1\" class=\"dataframe\">\n",
       "  <thead>\n",
       "    <tr style=\"text-align: right;\">\n",
       "      <th></th>\n",
       "      <th>len_chars</th>\n",
       "      <th>len_words</th>\n",
       "    </tr>\n",
       "  </thead>\n",
       "  <tbody>\n",
       "    <tr>\n",
       "      <th>count</th>\n",
       "      <td>2424.000000</td>\n",
       "      <td>2424.000000</td>\n",
       "    </tr>\n",
       "    <tr>\n",
       "      <th>mean</th>\n",
       "      <td>683.223185</td>\n",
       "      <td>107.924092</td>\n",
       "    </tr>\n",
       "    <tr>\n",
       "      <th>std</th>\n",
       "      <td>223.563695</td>\n",
       "      <td>35.575349</td>\n",
       "    </tr>\n",
       "    <tr>\n",
       "      <th>min</th>\n",
       "      <td>303.000000</td>\n",
       "      <td>41.000000</td>\n",
       "    </tr>\n",
       "    <tr>\n",
       "      <th>25%</th>\n",
       "      <td>513.000000</td>\n",
       "      <td>81.000000</td>\n",
       "    </tr>\n",
       "    <tr>\n",
       "      <th>50%</th>\n",
       "      <td>647.000000</td>\n",
       "      <td>102.000000</td>\n",
       "    </tr>\n",
       "    <tr>\n",
       "      <th>75%</th>\n",
       "      <td>809.250000</td>\n",
       "      <td>129.000000</td>\n",
       "    </tr>\n",
       "    <tr>\n",
       "      <th>max</th>\n",
       "      <td>1492.000000</td>\n",
       "      <td>260.000000</td>\n",
       "    </tr>\n",
       "  </tbody>\n",
       "</table>\n",
       "</div>"
      ],
      "text/plain": [
       "         len_chars    len_words\n",
       "count  2424.000000  2424.000000\n",
       "mean    683.223185   107.924092\n",
       "std     223.563695    35.575349\n",
       "min     303.000000    41.000000\n",
       "25%     513.000000    81.000000\n",
       "50%     647.000000   102.000000\n",
       "75%     809.250000   129.000000\n",
       "max    1492.000000   260.000000"
      ]
     },
     "metadata": {},
     "output_type": "display_data"
    }
   ],
   "source": [
    "def agregar_longitudes(df, col_texto=\"texto\"):\n",
    "    out = df.copy()\n",
    "    out[\"len_chars\"] = out[col_texto].astype(str).str.len()\n",
    "    out[\"len_words\"] = out[col_texto].astype(str).str.split().str.len()\n",
    "    return out\n",
    "\n",
    "def resumen_longitudes(df):\n",
    "    desc = df[[\"len_chars\",\"len_words\"]].describe()\n",
    "    return desc\n",
    "\n",
    "df = agregar_longitudes(df, \"texto\")\n",
    "print(\"Resumen de longitudes:\")\n",
    "display(resumen_longitudes(df))\n"
   ]
  },
  {
   "cell_type": "markdown",
   "id": "9c612727-4849-4811-9f14-2c060aa97cb3",
   "metadata": {},
   "source": [
    "Resultado: una tabla con estadísticas de longitud de caracteres y palabras (mínimo, máximo, promedio, etc.)."
   ]
  },
  {
   "cell_type": "markdown",
   "id": "6b6bf0ab-d5fd-4958-8d34-7004528a4e30",
   "metadata": {},
   "source": [
    "## Distribuciones simples"
   ]
  },
  {
   "cell_type": "code",
   "execution_count": 12,
   "id": "fb43f3ea-b7de-4f03-8da4-96ba82ee591b",
   "metadata": {},
   "outputs": [
    {
     "name": "stdout",
     "output_type": "stream",
     "text": [
      "Conteo de clases:\n",
      "ods\n",
      "4    1025\n",
      "3     894\n",
      "1     505\n",
      "Name: count, dtype: int64\n"
     ]
    },
    {
     "data": {
      "image/png": "[encoded data removed]",
      "text/plain": [
       "<Figure size 640x480 with 1 Axes>"
      ]
     },
     "metadata": {},
     "output_type": "display_data"
    }
   ],
   "source": [
    "def conteo_categoria(df, col, top=10):\n",
    "    return df[col].value_counts().head(top)\n",
    "\n",
    "def graficar_distribucion_clase(df, col_label=\"ods\"):\n",
    "    dist = df[col_label].value_counts().sort_index()\n",
    "    ax = dist.plot(kind=\"bar\")\n",
    "    ax.set_title(\"Distribución de clases\")\n",
    "    ax.set_xlabel(col_label)\n",
    "    ax.set_ylabel(\"frecuencia\")\n",
    "    plt.show()\n",
    "\n",
    "print(\"Conteo de clases:\")\n",
    "print(df[\"ods\"].value_counts())\n",
    "graficar_distribucion_clase(df, \"ods\")"
   ]
  },
  {
   "cell_type": "markdown",
   "id": "89a5bef9-de5a-43ca-b218-e2b427f0add1",
   "metadata": {},
   "source": [
    "Resultado: conteo de cuántos ejemplos hay en cada ODS y un gráfico de barras."
   ]
  },
  {
   "cell_type": "markdown",
   "id": "6ecea9a6-8642-4a77-8b35-e11faaf6697b",
   "metadata": {},
   "source": [
    "## Calidad básica"
   ]
  },
  {
   "cell_type": "code",
   "execution_count": 13,
   "id": "6c98f2e8-a06b-4e3b-9a76-086c937f569b",
   "metadata": {},
   "outputs": [
    {
     "name": "stdout",
     "output_type": "stream",
     "text": [
      "Duplicados: 0\n",
      "Textos vacíos: 0\n",
      "Textos muy cortos: 0\n"
     ]
    }
   ],
   "source": [
    "def contar_duplicados(df, cols=None):\n",
    "    cols = df.columns.tolist() if cols is None else cols\n",
    "    return df.duplicated(subset=cols).sum()\n",
    "\n",
    "def contar_textos_vacios(df, col_texto=\"texto\"):\n",
    "    return (df[col_texto].astype(str).str.strip()==\"\").sum()\n",
    "\n",
    "def contar_textos_muy_cortos(df, min_palabras=2, col_texto=\"texto\"):\n",
    "    return (df[col_texto].astype(str).str.split().str.len()<=min_palabras).sum()\n",
    "\n",
    "print(\"Duplicados:\", contar_duplicados(df, [\"texto\"]))\n",
    "print(\"Textos vacíos:\", contar_textos_vacios(df, \"texto\"))\n",
    "print(\"Textos muy cortos:\", contar_textos_muy_cortos(df, min_palabras=2, col_texto=\"texto\"))\n",
    "\n"
   ]
  },
  {
   "cell_type": "markdown",
   "id": "40ebce0b-7072-46f2-b3eb-48953d9f21a6",
   "metadata": {},
   "source": [
    "Resultado: número de duplicados, vacíos y textos demasiado cortos."
   ]
  },
  {
   "cell_type": "markdown",
   "id": "f940eb80-b292-40bf-a19d-3ca9dfbe4ae9",
   "metadata": {},
   "source": [
    "# LIMPIEZA / PREPARACIÓN"
   ]
  },
  {
   "cell_type": "code",
   "execution_count": 16,
   "id": "c3181fde-3535-4e03-92a3-7ab6626e2850",
   "metadata": {},
   "outputs": [],
   "source": [
    "STOP_ES = set(\"\"\"\n",
    "de la que el en y a los las del se por un con para una su al lo como mas o sus\n",
    "entre tambien fue e ya si pero sobre este esta estos estas hay no si es son ser\n",
    "\"\"\".split())\n"
   ]
  },
  {
   "cell_type": "markdown",
   "id": "2bb7164c-6864-4767-b686-09e4571ce0d5",
   "metadata": {},
   "source": [
    "## Funciones de limpieza"
   ]
  },
  {
   "cell_type": "code",
   "execution_count": 17,
   "id": "30545768-3ef2-46b0-b5c3-28c1f6eb43ca",
   "metadata": {},
   "outputs": [],
   "source": [
    "def a_minusculas(t):         \n",
    "    return str(t).lower()\n",
    "def quitar_urls(t):          \n",
    "    return re.sub(r\"http\\S+|www\\.\\S+\", \" \", str(t))\n",
    "def quitar_emails(t):        \n",
    "    return re.sub(r\"\\S+@\\S+\\.\\S+\", \" \", str(t))\n",
    "def quitar_numeros(t):       \n",
    "    return re.sub(r\"\\d+\", \" \", str(t))\n",
    "def quitar_puntuacion(t):\n",
    "    tabla = str.maketrans(\"\", \"\", string.punctuation + \"“”»«¿?¡!…\")\n",
    "    return str(t).translate(tabla)\n",
    "def quitar_acentos(t):       \n",
    "    return unidecode(str(t))\n",
    "def colapsar_espacios(t):    \n",
    "    return re.sub(r\"\\s+\", \" \", str(t)).strip()\n",
    "def quitar_stopwords(t, stop=STOP_ES):\n",
    "    toks = [w for w in str(t).split() if w not in stop]\n",
    "    return \" \".join(toks)\n"
   ]
  },
  {
   "cell_type": "markdown",
   "id": "8122bf92-8f17-4b63-a33e-aa847adaaaa5",
   "metadata": {},
   "source": [
    "Resultados: cada función hace un paso de limpieza (minúsculas, quitar URLs, emails, números, puntuación, tildes, espacios repetidos y stopwords)."
   ]
  },
  {
   "cell_type": "markdown",
   "id": "e6ba7376-9ce8-4ba1-9e91-6d0d8a558a58",
   "metadata": {},
   "source": [
    "## Función de limpieza completa + aplicación"
   ]
  },
  {
   "cell_type": "code",
   "execution_count": 19,
   "id": "d67510e1-d9db-405f-ab74-8c03bb599205",
   "metadata": {},
   "outputs": [
    {
     "data": {
      "text/html": [
       "<div>\n",
       "<style scoped>\n",
       "    .dataframe tbody tr th:only-of-type {\n",
       "        vertical-align: middle;\n",
       "    }\n",
       "\n",
       "    .dataframe tbody tr th {\n",
       "        vertical-align: top;\n",
       "    }\n",
       "\n",
       "    .dataframe thead th {\n",
       "        text-align: right;\n",
       "    }\n",
       "</style>\n",
       "<table border=\"1\" class=\"dataframe\">\n",
       "  <thead>\n",
       "    <tr style=\"text-align: right;\">\n",
       "      <th></th>\n",
       "      <th>texto</th>\n",
       "      <th>texto_clean</th>\n",
       "    </tr>\n",
       "  </thead>\n",
       "  <tbody>\n",
       "    <tr>\n",
       "      <th>0</th>\n",
       "      <td>\"Aprendizaje\" y \"educación\" se consideran sinó...</td>\n",
       "      <td>aprendizaje educacion consideran sinonimos esc...</td>\n",
       "    </tr>\n",
       "    <tr>\n",
       "      <th>1</th>\n",
       "      <td>Para los niños más pequeños (bebés y niños peq...</td>\n",
       "      <td>ninos pequenos bebes ninos pequenos capacitaci...</td>\n",
       "    </tr>\n",
       "    <tr>\n",
       "      <th>2</th>\n",
       "      <td>Además, la formación de especialistas en medic...</td>\n",
       "      <td>ademas formacion especialistas medicina genera...</td>\n",
       "    </tr>\n",
       "    <tr>\n",
       "      <th>3</th>\n",
       "      <td>En los países de la OCDE se tiende a pasar de ...</td>\n",
       "      <td>paises ocde tiende pasar cursos obligatorios o...</td>\n",
       "    </tr>\n",
       "    <tr>\n",
       "      <th>4</th>\n",
       "      <td>Este grupo se centró en las personas que padec...</td>\n",
       "      <td>grupo centro personas padecen trastornos menta...</td>\n",
       "    </tr>\n",
       "    <tr>\n",
       "      <th>5</th>\n",
       "      <td>Los datos a nivel del sistema que no se deriva...</td>\n",
       "      <td>datos nivel sistema derivan cuestionario estud...</td>\n",
       "    </tr>\n",
       "    <tr>\n",
       "      <th>6</th>\n",
       "      <td>La principal ventaja de las evaluaciones exter...</td>\n",
       "      <td>principal ventaja evaluaciones externas fiabil...</td>\n",
       "    </tr>\n",
       "    <tr>\n",
       "      <th>7</th>\n",
       "      <td>Los pacientes pueden elegir a cualquier médico...</td>\n",
       "      <td>pacientes pueden elegir cualquier medico cabec...</td>\n",
       "    </tr>\n",
       "    <tr>\n",
       "      <th>8</th>\n",
       "      <td>De hecho, es probable que la designación de la...</td>\n",
       "      <td>hecho probable designacion universidad univers...</td>\n",
       "    </tr>\n",
       "    <tr>\n",
       "      <th>9</th>\n",
       "      <td>De hecho, aunque Chile y Uruguay tienen índice...</td>\n",
       "      <td>hecho aunque chile uruguay tienen indices pobr...</td>\n",
       "    </tr>\n",
       "  </tbody>\n",
       "</table>\n",
       "</div>"
      ],
      "text/plain": [
       "                                               texto  \\\n",
       "0  \"Aprendizaje\" y \"educación\" se consideran sinó...   \n",
       "1  Para los niños más pequeños (bebés y niños peq...   \n",
       "2  Además, la formación de especialistas en medic...   \n",
       "3  En los países de la OCDE se tiende a pasar de ...   \n",
       "4  Este grupo se centró en las personas que padec...   \n",
       "5  Los datos a nivel del sistema que no se deriva...   \n",
       "6  La principal ventaja de las evaluaciones exter...   \n",
       "7  Los pacientes pueden elegir a cualquier médico...   \n",
       "8  De hecho, es probable que la designación de la...   \n",
       "9  De hecho, aunque Chile y Uruguay tienen índice...   \n",
       "\n",
       "                                         texto_clean  \n",
       "0  aprendizaje educacion consideran sinonimos esc...  \n",
       "1  ninos pequenos bebes ninos pequenos capacitaci...  \n",
       "2  ademas formacion especialistas medicina genera...  \n",
       "3  paises ocde tiende pasar cursos obligatorios o...  \n",
       "4  grupo centro personas padecen trastornos menta...  \n",
       "5  datos nivel sistema derivan cuestionario estud...  \n",
       "6  principal ventaja evaluaciones externas fiabil...  \n",
       "7  pacientes pueden elegir cualquier medico cabec...  \n",
       "8  hecho probable designacion universidad univers...  \n",
       "9  hecho aunque chile uruguay tienen indices pobr...  "
      ]
     },
     "execution_count": 19,
     "metadata": {},
     "output_type": "execute_result"
    }
   ],
   "source": [
    "def limpiar_texto(t):\n",
    "    t = a_minusculas(t)\n",
    "    t = quitar_urls(t)\n",
    "    t = quitar_emails(t)\n",
    "    t = quitar_numeros(t)\n",
    "    t = quitar_puntuacion(t)\n",
    "    t = quitar_acentos(t)\n",
    "    t = colapsar_espacios(t)\n",
    "    t = quitar_stopwords(t)\n",
    "    return t\n",
    "\n",
    "def aplicar_limpieza(df, col_origen=\"texto\", col_destino=\"texto_clean\"):\n",
    "    out = df.copy()\n",
    "    out[col_destino] = out[col_origen].apply(limpiar_texto)\n",
    "    return out\n",
    "\n",
    "df_clean = aplicar_limpieza(df, col_origen=\"texto\", col_destino=\"texto_clean\")\n",
    "df_clean[[\"texto\", \"texto_clean\"]].head(10)\n"
   ]
  },
  {
   "cell_type": "markdown",
   "id": "2a112634-ac39-40be-a3b0-b27a9fa1d956",
   "metadata": {},
   "source": [
    "Resultados: crea una nueva columna texto_clean con el texto normalizado. La última línea muestra los primeros 10 antes/después."
   ]
  },
  {
   "cell_type": "markdown",
   "id": "8429f5cc-35b5-4385-b051-298793d7275a",
   "metadata": {},
   "source": [
    "## Verificación después de limpiar"
   ]
  },
  {
   "cell_type": "markdown",
   "id": "3109ade5-03e9-4234-9064-8f9fdded803a",
   "metadata": {},
   "source": [
    "Resultado: verifica que la limpieza no dejó strings vacíos y cuántos textos quedaron demasiado cortos."
   ]
  },
  {
   "cell_type": "code",
   "execution_count": 20,
   "id": "cdc415d5-6d65-43bd-a47b-1f199a8f714d",
   "metadata": {},
   "outputs": [
    {
     "name": "stdout",
     "output_type": "stream",
     "text": [
      "Textos vacíos después de limpiar: 0\n",
      "Textos muy cortos (<=2 palabras) después de limpiar: 0\n"
     ]
    }
   ],
   "source": [
    "def contar_vacios(df, col=\"texto_clean\"):\n",
    "    return (df[col].astype(str).str.strip()==\"\").sum()\n",
    "\n",
    "def contar_muy_cortos(df, col=\"texto_clean\", min_palabras=2):\n",
    "    return (df[col].astype(str).str.split().str.len()<=min_palabras).sum()\n",
    "\n",
    "print(\"Textos vacíos después de limpiar:\", contar_vacios(df_clean, \"texto_clean\"))\n",
    "print(\"Textos muy cortos (<=2 palabras) después de limpiar:\", contar_muy_cortos(df_clean, \"texto_clean\", 2))\n"
   ]
  },
  {
   "cell_type": "markdown",
   "id": "85d4e1b5-46c9-4a88-ac18-12152372f537",
   "metadata": {},
   "source": [
    "## Comparar longitudes antes y después"
   ]
  },
  {
   "cell_type": "code",
   "execution_count": 21,
   "id": "79e25b81-51dc-4120-a5dc-647718834703",
   "metadata": {},
   "outputs": [
    {
     "name": "stdout",
     "output_type": "stream",
     "text": [
      "ANTES (texto original):\n"
     ]
    },
    {
     "data": {
      "text/html": [
       "<div>\n",
       "<style scoped>\n",
       "    .dataframe tbody tr th:only-of-type {\n",
       "        vertical-align: middle;\n",
       "    }\n",
       "\n",
       "    .dataframe tbody tr th {\n",
       "        vertical-align: top;\n",
       "    }\n",
       "\n",
       "    .dataframe thead th {\n",
       "        text-align: right;\n",
       "    }\n",
       "</style>\n",
       "<table border=\"1\" class=\"dataframe\">\n",
       "  <thead>\n",
       "    <tr style=\"text-align: right;\">\n",
       "      <th></th>\n",
       "      <th>len_chars</th>\n",
       "      <th>len_words</th>\n",
       "    </tr>\n",
       "  </thead>\n",
       "  <tbody>\n",
       "    <tr>\n",
       "      <th>count</th>\n",
       "      <td>2424.000000</td>\n",
       "      <td>2424.000000</td>\n",
       "    </tr>\n",
       "    <tr>\n",
       "      <th>mean</th>\n",
       "      <td>683.223185</td>\n",
       "      <td>107.924092</td>\n",
       "    </tr>\n",
       "    <tr>\n",
       "      <th>std</th>\n",
       "      <td>223.563695</td>\n",
       "      <td>35.575349</td>\n",
       "    </tr>\n",
       "    <tr>\n",
       "      <th>min</th>\n",
       "      <td>303.000000</td>\n",
       "      <td>41.000000</td>\n",
       "    </tr>\n",
       "    <tr>\n",
       "      <th>25%</th>\n",
       "      <td>513.000000</td>\n",
       "      <td>81.000000</td>\n",
       "    </tr>\n",
       "    <tr>\n",
       "      <th>50%</th>\n",
       "      <td>647.000000</td>\n",
       "      <td>102.000000</td>\n",
       "    </tr>\n",
       "    <tr>\n",
       "      <th>75%</th>\n",
       "      <td>809.250000</td>\n",
       "      <td>129.000000</td>\n",
       "    </tr>\n",
       "    <tr>\n",
       "      <th>max</th>\n",
       "      <td>1492.000000</td>\n",
       "      <td>260.000000</td>\n",
       "    </tr>\n",
       "  </tbody>\n",
       "</table>\n",
       "</div>"
      ],
      "text/plain": [
       "         len_chars    len_words\n",
       "count  2424.000000  2424.000000\n",
       "mean    683.223185   107.924092\n",
       "std     223.563695    35.575349\n",
       "min     303.000000    41.000000\n",
       "25%     513.000000    81.000000\n",
       "50%     647.000000   102.000000\n",
       "75%     809.250000   129.000000\n",
       "max    1492.000000   260.000000"
      ]
     },
     "metadata": {},
     "output_type": "display_data"
    },
    {
     "name": "stdout",
     "output_type": "stream",
     "text": [
      "DESPUÉS (texto_clean):\n"
     ]
    },
    {
     "data": {
      "text/html": [
       "<div>\n",
       "<style scoped>\n",
       "    .dataframe tbody tr th:only-of-type {\n",
       "        vertical-align: middle;\n",
       "    }\n",
       "\n",
       "    .dataframe tbody tr th {\n",
       "        vertical-align: top;\n",
       "    }\n",
       "\n",
       "    .dataframe thead th {\n",
       "        text-align: right;\n",
       "    }\n",
       "</style>\n",
       "<table border=\"1\" class=\"dataframe\">\n",
       "  <thead>\n",
       "    <tr style=\"text-align: right;\">\n",
       "      <th></th>\n",
       "      <th>len_chars</th>\n",
       "      <th>len_words</th>\n",
       "    </tr>\n",
       "  </thead>\n",
       "  <tbody>\n",
       "    <tr>\n",
       "      <th>count</th>\n",
       "      <td>2424.000000</td>\n",
       "      <td>2424.000000</td>\n",
       "    </tr>\n",
       "    <tr>\n",
       "      <th>mean</th>\n",
       "      <td>499.747112</td>\n",
       "      <td>57.526403</td>\n",
       "    </tr>\n",
       "    <tr>\n",
       "      <th>std</th>\n",
       "      <td>166.885421</td>\n",
       "      <td>18.881654</td>\n",
       "    </tr>\n",
       "    <tr>\n",
       "      <th>min</th>\n",
       "      <td>206.000000</td>\n",
       "      <td>24.000000</td>\n",
       "    </tr>\n",
       "    <tr>\n",
       "      <th>25%</th>\n",
       "      <td>377.000000</td>\n",
       "      <td>43.000000</td>\n",
       "    </tr>\n",
       "    <tr>\n",
       "      <th>50%</th>\n",
       "      <td>470.000000</td>\n",
       "      <td>54.000000</td>\n",
       "    </tr>\n",
       "    <tr>\n",
       "      <th>75%</th>\n",
       "      <td>594.000000</td>\n",
       "      <td>68.000000</td>\n",
       "    </tr>\n",
       "    <tr>\n",
       "      <th>max</th>\n",
       "      <td>1134.000000</td>\n",
       "      <td>128.000000</td>\n",
       "    </tr>\n",
       "  </tbody>\n",
       "</table>\n",
       "</div>"
      ],
      "text/plain": [
       "         len_chars    len_words\n",
       "count  2424.000000  2424.000000\n",
       "mean    499.747112    57.526403\n",
       "std     166.885421    18.881654\n",
       "min     206.000000    24.000000\n",
       "25%     377.000000    43.000000\n",
       "50%     470.000000    54.000000\n",
       "75%     594.000000    68.000000\n",
       "max    1134.000000   128.000000"
      ]
     },
     "metadata": {},
     "output_type": "display_data"
    }
   ],
   "source": [
    "def agregar_longitudes(df, col_texto=\"texto\"):\n",
    "    out = df.copy()\n",
    "    out[\"len_chars\"] = out[col_texto].astype(str).str.len()\n",
    "    out[\"len_words\"] = out[col_texto].astype(str).str.split().str.len()\n",
    "    return out\n",
    "\n",
    "antes  = agregar_longitudes(df,       \"texto\")[[\"len_chars\",\"len_words\"]].describe()\n",
    "despues= agregar_longitudes(df_clean, \"texto_clean\")[[\"len_chars\",\"len_words\"]].describe()\n",
    "\n",
    "print(\"ANTES (texto original):\")\n",
    "display(antes)\n",
    "print(\"DESPUÉS (texto_clean):\")\n",
    "display(despues)\n"
   ]
  },
  {
   "cell_type": "markdown",
   "id": "3a595d55-aba5-4dee-bea0-b22bb0d07234",
   "metadata": {},
   "source": [
    "Resultado: compara estadísticos de longitudes antes y después de limpiar."
   ]
  },
  {
   "cell_type": "markdown",
   "id": "2ebcbb2f-5958-4d0f-863d-ea5237e988cc",
   "metadata": {},
   "source": [
    "## Partición en train/val/test"
   ]
  },
  {
   "cell_type": "code",
   "execution_count": 26,
   "id": "9274ec60-d7c9-4cfd-b574-2cf681f27d3b",
   "metadata": {},
   "outputs": [
    {
     "name": "stdout",
     "output_type": "stream",
     "text": [
      "1696 243 485\n"
     ]
    }
   ],
   "source": [
    "def partir_estratificado(df, col_texto=\"texto_clean\", col_label=\"ods\",\n",
    "                         test_size=0.2, val_size=0.1, seed=42):\n",
    "    train_df, test_df = train_test_split(\n",
    "        df[[col_texto, col_label]], test_size=test_size,\n",
    "        stratify=df[col_label], random_state=seed\n",
    "    )\n",
    "    val_rel = val_size / (1 - test_size)\n",
    "    train_df, val_df = train_test_split(\n",
    "        train_df, test_size=val_rel, stratify=train_df[col_label], random_state=seed\n",
    "    )\n",
    "    return (train_df.reset_index(drop=True),\n",
    "            val_df.reset_index(drop=True),\n",
    "            test_df.reset_index(drop=True))\n",
    "\n",
    "train_df, val_df, test_df = partir_estratificado(df_clean, \"texto_clean\", \"ods\")\n",
    "print(len(train_df), len(val_df), len(test_df))\n"
   ]
  },
  {
   "cell_type": "markdown",
   "id": "4f3d596f-8dc7-4a05-b3cc-8d9d110a7fa4",
   "metadata": {},
   "source": [
    "Resultado: separa el dataset limpio en entrenamiento, validación y prueba manteniendo la proporción de clases."
   ]
  },
  {
   "cell_type": "markdown",
   "id": "26e340ac-6e1f-4e62-a0d5-1819008efbb0",
   "metadata": {},
   "source": [
    "## Rebalanceo del set de entrenamiento"
   ]
  },
  {
   "cell_type": "code",
   "execution_count": 27,
   "id": "11709728-ae0b-460a-89dc-ab362266d69d",
   "metadata": {},
   "outputs": [
    {
     "name": "stdout",
     "output_type": "stream",
     "text": [
      "Antes (train):\n",
      "ods\n",
      "4    717\n",
      "3    626\n",
      "1    353\n",
      "Name: count, dtype: int64\n",
      "\n",
      "Después (train balanceado):\n",
      "ods\n",
      "3    353\n",
      "1    353\n",
      "4    353\n",
      "Name: count, dtype: int64\n"
     ]
    }
   ],
   "source": [
    "def balancear_undersampling(train_df, col_label=\"ods\", seed=42):\n",
    "    objetivo = train_df[col_label].value_counts().min()\n",
    "    partes = []\n",
    "    for k, sub in train_df.groupby(col_label):\n",
    "        partes.append(resample(sub, replace=False, n_samples=objetivo, random_state=seed))\n",
    "    out = pd.concat(partes).sample(frac=1, random_state=seed).reset_index(drop=True)\n",
    "    return out\n",
    "\n",
    "print(\"Antes (train):\")\n",
    "print(train_df[\"ods\"].value_counts())\n",
    "train_bal = balancear_undersampling(train_df, \"ods\")\n",
    "print(\"\\nDespués (train balanceado):\")\n",
    "print(train_bal[\"ods\"].value_counts())\n"
   ]
  },
  {
   "cell_type": "markdown",
   "id": "032b22ed-7a90-4352-bd14-9dd438f24cab",
   "metadata": {},
   "source": [
    "Resultado: iguala el tamaño de cada clase en train_df para evitar sesgo."
   ]
  },
  {
   "cell_type": "markdown",
   "id": "fec5bc32-4850-4fb6-b22b-554e7bc1b7cf",
   "metadata": {},
   "source": [
    "## Vectorización TF-IDF"
   ]
  },
  {
   "cell_type": "code",
   "execution_count": 28,
   "id": "c1124590-cd89-49c3-945e-ec479e4dd925",
   "metadata": {},
   "outputs": [
    {
     "data": {
      "text/plain": [
       "((1059, 8869), (243, 8869), (485, 8869))"
      ]
     },
     "execution_count": 28,
     "metadata": {},
     "output_type": "execute_result"
    }
   ],
   "source": [
    "def crear_vectorizador_tfidf(max_features=20000, ngram_range=(1,2), min_df=2):\n",
    "    return TfidfVectorizer(max_features=max_features, ngram_range=ngram_range, min_df=min_df)\n",
    "\n",
    "def vectorizar_sets(vectorizador, train_df, val_df, test_df, col_texto=\"texto_clean\", col_label=\"ods\"):\n",
    "    X_train = vectorizador.fit_transform(train_df[col_texto]); y_train = train_df[col_label].values\n",
    "    X_val   = vectorizador.transform(val_df[col_texto]);       y_val   = val_df[col_label].values\n",
    "    X_test  = vectorizador.transform(test_df[col_texto]);      y_test  = test_df[col_label].values\n",
    "    return (X_train, y_train, X_val, y_val, X_test, y_test)\n",
    "\n",
    "vec = crear_vectorizador_tfidf()\n",
    "X_train, y_train, X_val, y_val, X_test, y_test = vectorizar_sets(vec, train_bal, val_df, test_df)\n",
    "X_train.shape, X_val.shape, X_test.shape\n"
   ]
  },
  {
   "cell_type": "markdown",
   "id": "0366de28-f38a-4af6-babd-0be77f48ab38",
   "metadata": {},
   "source": [
    "Resultado: convierte los textos limpios a vectores numéricos (TF-IDF) para entrenar el clasificador."
   ]
  },
  {
   "cell_type": "markdown",
   "id": "ba3ce32b-8cb7-42a5-9f51-303eba63712d",
   "metadata": {},
   "source": [
    "## Guardar dataset limpio completo"
   ]
  },
  {
   "cell_type": "code",
   "execution_count": 29,
   "id": "ef86cabe-64f1-493f-997e-9763a1d6c204",
   "metadata": {},
   "outputs": [
    {
     "name": "stdout",
     "output_type": "stream",
     "text": [
      "Dataset limpio guardado como dataset_limpio.csv\n"
     ]
    },
    {
     "data": {
      "text/html": [
       "<div>\n",
       "<style scoped>\n",
       "    .dataframe tbody tr th:only-of-type {\n",
       "        vertical-align: middle;\n",
       "    }\n",
       "\n",
       "    .dataframe tbody tr th {\n",
       "        vertical-align: top;\n",
       "    }\n",
       "\n",
       "    .dataframe thead th {\n",
       "        text-align: right;\n",
       "    }\n",
       "</style>\n",
       "<table border=\"1\" class=\"dataframe\">\n",
       "  <thead>\n",
       "    <tr style=\"text-align: right;\">\n",
       "      <th></th>\n",
       "      <th>texto</th>\n",
       "      <th>ods</th>\n",
       "      <th>len_chars</th>\n",
       "      <th>len_words</th>\n",
       "      <th>texto_clean</th>\n",
       "    </tr>\n",
       "  </thead>\n",
       "  <tbody>\n",
       "    <tr>\n",
       "      <th>0</th>\n",
       "      <td>\"Aprendizaje\" y \"educación\" se consideran sinó...</td>\n",
       "      <td>4</td>\n",
       "      <td>269</td>\n",
       "      <td>27</td>\n",
       "      <td>aprendizaje educacion consideran sinonimos esc...</td>\n",
       "    </tr>\n",
       "    <tr>\n",
       "      <th>1</th>\n",
       "      <td>Para los niños más pequeños (bebés y niños peq...</td>\n",
       "      <td>4</td>\n",
       "      <td>401</td>\n",
       "      <td>42</td>\n",
       "      <td>ninos pequenos bebes ninos pequenos capacitaci...</td>\n",
       "    </tr>\n",
       "    <tr>\n",
       "      <th>2</th>\n",
       "      <td>Además, la formación de especialistas en medic...</td>\n",
       "      <td>3</td>\n",
       "      <td>516</td>\n",
       "      <td>56</td>\n",
       "      <td>ademas formacion especialistas medicina genera...</td>\n",
       "    </tr>\n",
       "    <tr>\n",
       "      <th>3</th>\n",
       "      <td>En los países de la OCDE se tiende a pasar de ...</td>\n",
       "      <td>4</td>\n",
       "      <td>530</td>\n",
       "      <td>59</td>\n",
       "      <td>paises ocde tiende pasar cursos obligatorios o...</td>\n",
       "    </tr>\n",
       "    <tr>\n",
       "      <th>4</th>\n",
       "      <td>Este grupo se centró en las personas que padec...</td>\n",
       "      <td>3</td>\n",
       "      <td>459</td>\n",
       "      <td>53</td>\n",
       "      <td>grupo centro personas padecen trastornos menta...</td>\n",
       "    </tr>\n",
       "    <tr>\n",
       "      <th>5</th>\n",
       "      <td>Los datos a nivel del sistema que no se deriva...</td>\n",
       "      <td>4</td>\n",
       "      <td>336</td>\n",
       "      <td>40</td>\n",
       "      <td>datos nivel sistema derivan cuestionario estud...</td>\n",
       "    </tr>\n",
       "    <tr>\n",
       "      <th>6</th>\n",
       "      <td>La principal ventaja de las evaluaciones exter...</td>\n",
       "      <td>4</td>\n",
       "      <td>246</td>\n",
       "      <td>27</td>\n",
       "      <td>principal ventaja evaluaciones externas fiabil...</td>\n",
       "    </tr>\n",
       "    <tr>\n",
       "      <th>7</th>\n",
       "      <td>Los pacientes pueden elegir a cualquier médico...</td>\n",
       "      <td>3</td>\n",
       "      <td>529</td>\n",
       "      <td>59</td>\n",
       "      <td>pacientes pueden elegir cualquier medico cabec...</td>\n",
       "    </tr>\n",
       "    <tr>\n",
       "      <th>8</th>\n",
       "      <td>De hecho, es probable que la designación de la...</td>\n",
       "      <td>4</td>\n",
       "      <td>753</td>\n",
       "      <td>85</td>\n",
       "      <td>hecho probable designacion universidad univers...</td>\n",
       "    </tr>\n",
       "    <tr>\n",
       "      <th>9</th>\n",
       "      <td>De hecho, aunque Chile y Uruguay tienen índice...</td>\n",
       "      <td>1</td>\n",
       "      <td>424</td>\n",
       "      <td>53</td>\n",
       "      <td>hecho aunque chile uruguay tienen indices pobr...</td>\n",
       "    </tr>\n",
       "  </tbody>\n",
       "</table>\n",
       "</div>"
      ],
      "text/plain": [
       "                                               texto  ods  len_chars  \\\n",
       "0  \"Aprendizaje\" y \"educación\" se consideran sinó...    4        269   \n",
       "1  Para los niños más pequeños (bebés y niños peq...    4        401   \n",
       "2  Además, la formación de especialistas en medic...    3        516   \n",
       "3  En los países de la OCDE se tiende a pasar de ...    4        530   \n",
       "4  Este grupo se centró en las personas que padec...    3        459   \n",
       "5  Los datos a nivel del sistema que no se deriva...    4        336   \n",
       "6  La principal ventaja de las evaluaciones exter...    4        246   \n",
       "7  Los pacientes pueden elegir a cualquier médico...    3        529   \n",
       "8  De hecho, es probable que la designación de la...    4        753   \n",
       "9  De hecho, aunque Chile y Uruguay tienen índice...    1        424   \n",
       "\n",
       "   len_words                                        texto_clean  \n",
       "0         27  aprendizaje educacion consideran sinonimos esc...  \n",
       "1         42  ninos pequenos bebes ninos pequenos capacitaci...  \n",
       "2         56  ademas formacion especialistas medicina genera...  \n",
       "3         59  paises ocde tiende pasar cursos obligatorios o...  \n",
       "4         53  grupo centro personas padecen trastornos menta...  \n",
       "5         40  datos nivel sistema derivan cuestionario estud...  \n",
       "6         27  principal ventaja evaluaciones externas fiabil...  \n",
       "7         59  pacientes pueden elegir cualquier medico cabec...  \n",
       "8         85  hecho probable designacion universidad univers...  \n",
       "9         53  hecho aunque chile uruguay tienen indices pobr...  "
      ]
     },
     "execution_count": 29,
     "metadata": {},
     "output_type": "execute_result"
    }
   ],
   "source": [
    "df_final = agregar_longitudes(df_clean, \"texto_clean\")\n",
    "df_final.to_csv(\"dataset_limpio.csv\", index=False)\n",
    "\n",
    "print(\"Dataset limpio guardado como dataset_limpio.csv\")\n",
    "df_final.head(10)\n"
   ]
  },
  {
   "cell_type": "markdown",
   "id": "c173438b-e1a3-4d94-8684-a925976cfff7",
   "metadata": {},
   "source": [
    "## Guardar splits (train, val, test)"
   ]
  },
  {
   "cell_type": "code",
   "execution_count": 30,
   "id": "ced82440-eb2e-42ff-85d3-2dd996f4553d",
   "metadata": {},
   "outputs": [
    {
     "name": "stdout",
     "output_type": "stream",
     "text": [
      "Archivos guardados: train_balanceado.csv, val.csv, test.csv\n"
     ]
    }
   ],
   "source": [
    "train_bal.to_csv(\"train_balanceado.csv\", index=False)\n",
    "val_df.to_csv(\"val.csv\", index=False)\n",
    "test_df.to_csv(\"test.csv\", index=False)\n",
    "\n",
    "print(\"Archivos guardados: train_balanceado.csv, val.csv, test.csv\")\n"
   ]
  },
  {
   "cell_type": "code",
   "execution_count": null,
   "id": "3f45ca91-4415-411a-b258-02fef1440b8d",
   "metadata": {},
   "outputs": [],
   "source": []
  }
 ],
 "metadata": {
  "kernelspec": {
   "display_name": "Python 3 (ipykernel)",
   "language": "python",
   "name": "python3"
  },
  "language_info": {
   "codemirror_mode": {
    "name": "ipython",
    "version": 3
   },
   "file_extension": ".py",
   "mimetype": "text/x-python",
   "name": "python",
   "nbconvert_exporter": "python",
   "pygments_lexer": "ipython3",
   "version": "3.13.5"
  }
 },
 "nbformat": 4,
 "nbformat_minor": 5
}
