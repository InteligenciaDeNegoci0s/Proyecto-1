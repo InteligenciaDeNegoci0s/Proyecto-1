{
 "cells": [
  {
   "cell_type": "code",
   "execution_count": 3,
   "id": "b7d38086-bf53-48c7-ac2e-375cd5bebace",
   "metadata": {},
   "outputs": [],
   "source": [
    "import pandas as pd\n",
    "import numpy as np\n",
    "import matplotlib.pyplot as plt\n",
    "from sklearn.feature_extraction.text import TfidfVectorizer\n",
    "from sklearn.naive_bayes import MultinomialNB\n",
    "from sklearn.linear_model import LogisticRegression\n",
    "from sklearn.svm import LinearSVC\n",
    "from sklearn.metrics import accuracy_score, precision_recall_fscore_support, classification_report, confusion_matrix\n",
    "import joblib\n",
    "import os\n",
    "\n",
    "SEED = 42\n",
    "np.random.seed(SEED)"
   ]
  },
  {
   "cell_type": "markdown",
   "id": "4604fd4b-9a6b-4ed0-bed1-5261c4e58974",
   "metadata": {},
   "source": [
    "# Modelado y evaluación"
   ]
  },
  {
   "cell_type": "code",
   "execution_count": 4,
   "id": "f8677636-134b-4648-9497-1cb16ec1e9a2",
   "metadata": {},
   "outputs": [
    {
     "name": "stdout",
     "output_type": "stream",
     "text": [
      "Tamaños -> train: 1059 | val: 243 | test: 485\n"
     ]
    },
    {
     "data": {
      "text/html": [
       "<div>\n",
       "<style scoped>\n",
       "    .dataframe tbody tr th:only-of-type {\n",
       "        vertical-align: middle;\n",
       "    }\n",
       "\n",
       "    .dataframe tbody tr th {\n",
       "        vertical-align: top;\n",
       "    }\n",
       "\n",
       "    .dataframe thead th {\n",
       "        text-align: right;\n",
       "    }\n",
       "</style>\n",
       "<table border=\"1\" class=\"dataframe\">\n",
       "  <thead>\n",
       "    <tr style=\"text-align: right;\">\n",
       "      <th></th>\n",
       "      <th>texto_clean</th>\n",
       "      <th>ods</th>\n",
       "    </tr>\n",
       "  </thead>\n",
       "  <tbody>\n",
       "    <tr>\n",
       "      <th>0</th>\n",
       "      <td>gracias avances clinicos salud publica han red...</td>\n",
       "      <td>3</td>\n",
       "    </tr>\n",
       "    <tr>\n",
       "      <th>1</th>\n",
       "      <td>otras dimensiones relevantes incluyen sexo jef...</td>\n",
       "      <td>1</td>\n",
       "    </tr>\n",
       "    <tr>\n",
       "      <th>2</th>\n",
       "      <td>deciden cobrar derecho paquete social cubre se...</td>\n",
       "      <td>1</td>\n",
       "    </tr>\n",
       "  </tbody>\n",
       "</table>\n",
       "</div>"
      ],
      "text/plain": [
       "                                         texto_clean  ods\n",
       "0  gracias avances clinicos salud publica han red...    3\n",
       "1  otras dimensiones relevantes incluyen sexo jef...    1\n",
       "2  deciden cobrar derecho paquete social cubre se...    1"
      ]
     },
     "execution_count": 4,
     "metadata": {},
     "output_type": "execute_result"
    }
   ],
   "source": [
    "train_path = \"train_balanceado.csv\"\n",
    "val_path   = \"val.csv\"\n",
    "test_path  = \"test.csv\"\n",
    "\n",
    "train_df = pd.read_csv(train_path)\n",
    "val_df   = pd.read_csv(val_path)\n",
    "test_df  = pd.read_csv(test_path)\n",
    "\n",
    "print(\"Tamaños -> train:\", len(train_df), \"| val:\", len(val_df), \"| test:\", len(test_df))\n",
    "train_df.head(3)"
   ]
  },
  {
   "cell_type": "markdown",
   "id": "a90bba0c-eb23-4a9c-bee6-bfbddab34384",
   "metadata": {},
   "source": [
    "## Vectorización de texto"
   ]
  },
  {
   "cell_type": "code",
   "execution_count": 33,
   "id": "d9d6c96e-111c-4457-9c65-8d82450094ec",
   "metadata": {},
   "outputs": [
    {
     "data": {
      "text/plain": [
       "((1059, 8869), (243, 8869), (485, 8869))"
      ]
     },
     "execution_count": 33,
     "metadata": {},
     "output_type": "execute_result"
    }
   ],
   "source": [
    "vectorizador = TfidfVectorizer(max_features=20000, ngram_range=(1,2), min_df=2)\n",
    "\n",
    "X_train = vectorizador.fit_transform(train_df[\"texto_clean\"])\n",
    "y_train = train_df[\"ods\"].values\n",
    "\n",
    "X_val   = vectorizador.transform(val_df[\"texto_clean\"])\n",
    "y_val   = val_df[\"ods\"].values\n",
    "\n",
    "X_test  = vectorizador.transform(test_df[\"texto_clean\"])\n",
    "y_test  = test_df[\"ods\"].values\n",
    "\n",
    "X_train.shape, X_val.shape, X_test.shape"
   ]
  },
  {
   "cell_type": "markdown",
   "id": "82c59c1b-4c74-4ef2-8094-89005d2aefa4",
   "metadata": {},
   "source": [
    "Resultado: Se convierte el texto limpio en representaciones numéricas utilizando TF-IDF con n-gramas (1,2). Esto permite usar los datos en los algoritmos de machine learning."
   ]
  },
  {
   "cell_type": "markdown",
   "id": "e075ff43-56d8-4e1d-8bdb-d75152f1ad38",
   "metadata": {},
   "source": [
    "## Función de métricas"
   ]
  },
  {
   "cell_type": "code",
   "execution_count": 36,
   "id": "8eab60ae-0730-4d81-b0e2-261fc2fdd767",
   "metadata": {},
   "outputs": [],
   "source": [
    "def resumen_metricas(y_true, y_pred):\n",
    "    acc = accuracy_score(y_true, y_pred)\n",
    "    p_macro, r_macro, f1_macro, _ = precision_recall_fscore_support(y_true, y_pred, average=\"macro\", zero_division=0)\n",
    "    p_w, r_w, f1_w, _ = precision_recall_fscore_support(y_true, y_pred, average=\"weighted\", zero_division=0)\n",
    "    return {\n",
    "        \"accuracy\": acc,\n",
    "        \"precision_macro\": p_macro,\n",
    "        \"recall_macro\": r_macro,\n",
    "        \"f1_macro\": f1_macro,\n",
    "        \"precision_weighted\": p_w,\n",
    "        \"recall_weighted\": r_w,\n",
    "        \"f1_weighted\": f1_w,\n",
    "    }"
   ]
  },
  {
   "cell_type": "markdown",
   "id": "df64f61e-cc10-4511-a43c-8663c646d4fb",
   "metadata": {},
   "source": [
    "Resultado: Se define una función que calcula varias métricas de desempeño:  accuracy, precision, recall y F1 (macro y weighted)."
   ]
  },
  {
   "cell_type": "markdown",
   "id": "5dc46929-59c8-4a24-8c4f-c5ed5e5f0a4c",
   "metadata": {},
   "source": [
    "## Función para imprimir resumen"
   ]
  },
  {
   "cell_type": "code",
   "execution_count": 37,
   "id": "f0a5179b-cddc-4e23-b55a-86e2ec73cdaf",
   "metadata": {},
   "outputs": [],
   "source": [
    "def imprimir_resumen(nombre, y_true_val, y_pred_val, y_true_test, y_pred_test):\n",
    "    m_val  = resumen_metricas(y_true_val,  y_pred_val)\n",
    "    m_test = resumen_metricas(y_true_test, y_pred_test)\n",
    "    print(nombre)\n",
    "    print(\"Validación:\", {k: round(v,3) for k,v in m_val.items()})\n",
    "    print(\"Test      :\", {k: round(v,3) for k,v in m_test.items()})\n",
    "    return m_val, m_test"
   ]
  },
  {
   "cell_type": "markdown",
   "id": "74ab2293-42aa-47c6-b516-d66eedb37e55",
   "metadata": {},
   "source": [
    "Se crea una función auxiliar que muestra las métricas en validación y test para un modelo dado."
   ]
  },
  {
   "cell_type": "markdown",
   "id": "1ca920d4-4f1c-4c13-82e9-390771ae85a7",
   "metadata": {},
   "source": [
    "## Función para matriz de confusión"
   ]
  },
  {
   "cell_type": "code",
   "execution_count": 38,
   "id": "d68155d9-a77d-4dfa-86ba-cfcef7c028df",
   "metadata": {},
   "outputs": [],
   "source": [
    "def plot_confusion(y_true, y_pred, titulo=\"Matriz de confusión (test)\"):\n",
    "    cm = confusion_matrix(y_true, y_pred, labels=sorted(np.unique(y_true)))\n",
    "    fig, ax = plt.subplots()\n",
    "    im = ax.imshow(cm)\n",
    "    ax.set_title(titulo)\n",
    "    ax.set_xlabel(\"Predicción\")\n",
    "    ax.set_ylabel(\"Verdadero\")\n",
    "    ax.set_xticks(range(len(cm))); ax.set_yticks(range(len(cm)))\n",
    "    ax.set_xticklabels(sorted(np.unique(y_true))); ax.set_yticklabels(sorted(np.unique(y_true)))\n",
    "    for i in range(cm.shape[0]):\n",
    "        for j in range(cm.shape[1]):\n",
    "            ax.text(j, i, cm[i, j], ha=\"center\", va=\"center\")\n",
    "    plt.show()"
   ]
  },
  {
   "cell_type": "markdown",
   "id": "388be371-2dfe-40d0-9be7-f7f9b61f6e45",
   "metadata": {},
   "source": [
    "Se define una función que grafica la matriz de confusión, mostrando predicciones vs valores reales."
   ]
  },
  {
   "cell_type": "markdown",
   "id": "6c91dc8f-2d95-48fa-95a1-8ccbfbf211a2",
   "metadata": {},
   "source": [
    "## Modelo 1: Naive Bayes Multinomial"
   ]
  },
  {
   "cell_type": "code",
   "execution_count": 39,
   "id": "07d5258f-a5de-43f1-9a63-1c9602ee5c46",
   "metadata": {},
   "outputs": [
    {
     "name": "stdout",
     "output_type": "stream",
     "text": [
      "Naive Bayes Multinomial\n",
      "Validación: {'accuracy': 0.963, 'precision_macro': 0.953, 'recall_macro': 0.966, 'f1_macro': 0.959, 'precision_weighted': 0.965, 'recall_weighted': 0.963, 'f1_weighted': 0.963}\n",
      "Test      : {'accuracy': 0.946, 'precision_macro': 0.936, 'recall_macro': 0.944, 'f1_macro': 0.939, 'precision_weighted': 0.948, 'recall_weighted': 0.946, 'f1_weighted': 0.947}\n"
     ]
    },
    {
     "data": {
      "image/png": "[encoded data removed]",
      "text/plain": [
       "<Figure size 640x480 with 1 Axes>"
      ]
     },
     "metadata": {},
     "output_type": "display_data"
    }
   ],
   "source": [
    "\n",
    "nb = MultinomialNB()\n",
    "nb.fit(X_train, y_train)\n",
    "\n",
    "pred_val  = nb.predict(X_val)\n",
    "pred_test = nb.predict(X_test)\n",
    "\n",
    "m_nb_val, m_nb_test = imprimir_resumen(\"Naive Bayes Multinomial\", y_val, pred_val, y_test, pred_test)\n",
    "plot_confusion(y_test, pred_test, \"Naive Bayes - Matriz de confusión (test)\")\n"
   ]
  },
  {
   "cell_type": "markdown",
   "id": "b6928688-b647-4838-ac2e-cfc443da1f16",
   "metadata": {},
   "source": [
    "Se entrena un modelo de **Naive Bayes Multinomial** con los datos vectorizados.  \n",
    "Se evalúa en validación y test, mostrando métricas y matriz de confusión."
   ]
  },
  {
   "cell_type": "markdown",
   "id": "382fda92-c7f8-40d5-b18b-461f9981c15e",
   "metadata": {},
   "source": [
    "## Modelo 2: Regresión Logística"
   ]
  },
  {
   "cell_type": "code",
   "execution_count": 41,
   "id": "ea4f93cd-d2b0-4068-946c-3133e4ba93de",
   "metadata": {},
   "outputs": [
    {
     "name": "stdout",
     "output_type": "stream",
     "text": [
      "Regresión Logística\n",
      "Validación: {'accuracy': 0.975, 'precision_macro': 0.968, 'recall_macro': 0.977, 'f1_macro': 0.972, 'precision_weighted': 0.976, 'recall_weighted': 0.975, 'f1_weighted': 0.975}\n",
      "Test      : {'accuracy': 0.967, 'precision_macro': 0.965, 'recall_macro': 0.965, 'f1_macro': 0.965, 'precision_weighted': 0.967, 'recall_weighted': 0.967, 'f1_weighted': 0.967}\n"
     ]
    },
    {
     "data": {
      "image/png": "[encoded data removed]",
      "text/plain": [
       "<Figure size 640x480 with 1 Axes>"
      ]
     },
     "metadata": {},
     "output_type": "display_data"
    }
   ],
   "source": [
    "lr = LogisticRegression(\n",
    "    max_iter=2000,\n",
    "    class_weight=\"balanced\", \n",
    "    n_jobs=-1                \n",
    ")\n",
    "lr.fit(X_train, y_train)\n",
    "\n",
    "pred_val  = lr.predict(X_val)\n",
    "pred_test = lr.predict(X_test)\n",
    "\n",
    "m_lr_val, m_lr_test = imprimir_resumen(\"Regresión Logística\", y_val, pred_val, y_test, pred_test)\n",
    "plot_confusion(y_test, pred_test, \"Regresión Logística - Matriz de confusión (test)\")\n"
   ]
  },
  {
   "cell_type": "markdown",
   "id": "858dbd65-2284-422d-936b-6e58efabb760",
   "metadata": {},
   "source": [
    "Se entrena un modelo de **Regresión Logística** con regularización balanceada.  \n",
    "Se evalúa en validación y test, mostrando métricas y matriz de confusión.\n"
   ]
  },
  {
   "cell_type": "markdown",
   "id": "d76bdb61-cfb2-47d1-b9ed-1b5544d18698",
   "metadata": {},
   "source": [
    "## Modelo 3: SVM Lineal"
   ]
  },
  {
   "cell_type": "code",
   "execution_count": 42,
   "id": "86f8079f-5cb7-4495-baf0-899c3c4b747c",
   "metadata": {},
   "outputs": [
    {
     "name": "stdout",
     "output_type": "stream",
     "text": [
      "SVM Lineal (LinearSVC)\n",
      "Validación: {'accuracy': 0.971, 'precision_macro': 0.962, 'recall_macro': 0.974, 'f1_macro': 0.967, 'precision_weighted': 0.973, 'recall_weighted': 0.971, 'f1_weighted': 0.971}\n",
      "Test      : {'accuracy': 0.969, 'precision_macro': 0.966, 'recall_macro': 0.967, 'f1_macro': 0.967, 'precision_weighted': 0.969, 'recall_weighted': 0.969, 'f1_weighted': 0.969}\n"
     ]
    },
    {
     "data": {
      "image/png": "[encoded data removed]",
      "text/plain": [
       "<Figure size 640x480 with 1 Axes>"
      ]
     },
     "metadata": {},
     "output_type": "display_data"
    }
   ],
   "source": [
    "svm = LinearSVC(class_weight=\"balanced\", random_state=SEED)\n",
    "svm.fit(X_train, y_train)\n",
    "\n",
    "pred_val  = svm.predict(X_val)\n",
    "pred_test = svm.predict(X_test)\n",
    "\n",
    "m_svm_val, m_svm_test = imprimir_resumen(\"SVM Lineal (LinearSVC)\", y_val, pred_val, y_test, pred_test)\n",
    "plot_confusion(y_test, pred_test, \"SVM Lineal - Matriz de confusión (test)\")"
   ]
  },
  {
   "cell_type": "markdown",
   "id": "9c67c826-7dfd-485d-a05e-8ccf4540574e",
   "metadata": {},
   "source": [
    "Se entrena un modelo de **Máquinas de Vectores de Soporte (SVM)** con kernel lineal.  \n",
    "Se evalúa en validación y test, mostrando métricas y matriz de confusión."
   ]
  },
  {
   "cell_type": "markdown",
   "id": "7d0f5fab-a558-4f15-8337-65d6626a1317",
   "metadata": {},
   "source": [
    "## Comparación de modelos"
   ]
  },
  {
   "cell_type": "code",
   "execution_count": 43,
   "id": "2b2a9ecd-7d1e-47a9-a09a-8131a5c70103",
   "metadata": {},
   "outputs": [
    {
     "data": {
      "text/html": [
       "<div>\n",
       "<style scoped>\n",
       "    .dataframe tbody tr th:only-of-type {\n",
       "        vertical-align: middle;\n",
       "    }\n",
       "\n",
       "    .dataframe tbody tr th {\n",
       "        vertical-align: top;\n",
       "    }\n",
       "\n",
       "    .dataframe thead th {\n",
       "        text-align: right;\n",
       "    }\n",
       "</style>\n",
       "<table border=\"1\" class=\"dataframe\">\n",
       "  <thead>\n",
       "    <tr style=\"text-align: right;\">\n",
       "      <th></th>\n",
       "      <th>modelo</th>\n",
       "      <th>accuracy</th>\n",
       "      <th>precision_macro</th>\n",
       "      <th>recall_macro</th>\n",
       "      <th>f1_macro</th>\n",
       "      <th>precision_weighted</th>\n",
       "      <th>recall_weighted</th>\n",
       "      <th>f1_weighted</th>\n",
       "    </tr>\n",
       "  </thead>\n",
       "  <tbody>\n",
       "    <tr>\n",
       "      <th>0</th>\n",
       "      <td>SVM Lineal (LinearSVC)</td>\n",
       "      <td>0.969072</td>\n",
       "      <td>0.966423</td>\n",
       "      <td>0.967259</td>\n",
       "      <td>0.966802</td>\n",
       "      <td>0.969152</td>\n",
       "      <td>0.969072</td>\n",
       "      <td>0.969072</td>\n",
       "    </tr>\n",
       "    <tr>\n",
       "      <th>1</th>\n",
       "      <td>Regresión Logística</td>\n",
       "      <td>0.967010</td>\n",
       "      <td>0.964529</td>\n",
       "      <td>0.965397</td>\n",
       "      <td>0.964924</td>\n",
       "      <td>0.967055</td>\n",
       "      <td>0.967010</td>\n",
       "      <td>0.966993</td>\n",
       "    </tr>\n",
       "    <tr>\n",
       "      <th>2</th>\n",
       "      <td>Naive Bayes Multinomial</td>\n",
       "      <td>0.946392</td>\n",
       "      <td>0.935735</td>\n",
       "      <td>0.944371</td>\n",
       "      <td>0.939450</td>\n",
       "      <td>0.947932</td>\n",
       "      <td>0.946392</td>\n",
       "      <td>0.946706</td>\n",
       "    </tr>\n",
       "  </tbody>\n",
       "</table>\n",
       "</div>"
      ],
      "text/plain": [
       "                    modelo  accuracy  precision_macro  recall_macro  f1_macro  \\\n",
       "0   SVM Lineal (LinearSVC)  0.969072         0.966423      0.967259  0.966802   \n",
       "1      Regresión Logística  0.967010         0.964529      0.965397  0.964924   \n",
       "2  Naive Bayes Multinomial  0.946392         0.935735      0.944371  0.939450   \n",
       "\n",
       "   precision_weighted  recall_weighted  f1_weighted  \n",
       "0            0.969152         0.969072     0.969072  \n",
       "1            0.967055         0.967010     0.966993  \n",
       "2            0.947932         0.946392     0.946706  "
      ]
     },
     "execution_count": 43,
     "metadata": {},
     "output_type": "execute_result"
    }
   ],
   "source": [
    "comparacion = pd.DataFrame([\n",
    "    {\"modelo\": \"Naive Bayes Multinomial\", **m_nb_test},\n",
    "    {\"modelo\": \"Regresión Logística\",     **m_lr_test},\n",
    "    {\"modelo\": \"SVM Lineal (LinearSVC)\",  **m_svm_test},\n",
    "])\n",
    "\n",
    "comparacion = comparacion.sort_values(\"f1_macro\", ascending=False).reset_index(drop=True)\n",
    "comparacion"
   ]
  },
  {
   "cell_type": "markdown",
   "id": "a4bff7c7-ff9c-479c-9ba7-d5eee6c404f2",
   "metadata": {},
   "source": [
    "Resultado: Se construye un dataframe con las métricas principales de cada modelo. Se ordena por F1-macro en el conjunto de prueba para seleccionar el mejor modelo."
   ]
  },
  {
   "cell_type": "markdown",
   "id": "f9a39d35-b698-4002-a61d-7f4dcf4e945c",
   "metadata": {},
   "source": [
    "## Selcción y guardado del mejor modelo"
   ]
  },
  {
   "cell_type": "code",
   "execution_count": 44,
   "id": "dc73678b-fce1-4337-9243-8252edb695e1",
   "metadata": {},
   "outputs": [
    {
     "name": "stdout",
     "output_type": "stream",
     "text": [
      "Mejor modelo (según F1-macro en TEST): SVM Lineal (LinearSVC)\n",
      "Artefactos guardados en ./artefactos_modelo\n"
     ]
    }
   ],
   "source": [
    "mejor = comparacion.iloc[0][\"modelo\"]\n",
    "print(\"Mejor modelo (según F1-macro en TEST):\", mejor)\n",
    "\n",
    "model_objects = {\n",
    "    \"Naive Bayes Multinomial\": nb,\n",
    "    \"Regresión Logística\": lr,\n",
    "    \"SVM Lineal (LinearSVC)\": svm,\n",
    "}\n",
    "best_model = model_objects[mejor]\n",
    "\n",
    "os.makedirs(\"artefactos_modelo\", exist_ok=True)\n",
    "joblib.dump(vectorizador, \"artefactos_modelo/vectorizador_tfidf.joblib\")\n",
    "joblib.dump(best_model,  \"artefactos_modelo/mejor_modelo.joblib\")\n",
    "comparacion.to_csv(\"artefactos_modelo/metricas_test.csv\", index=False)\n",
    "\n",
    "print(\"Artefactos guardados en ./artefactos_modelo\")"
   ]
  },
  {
   "cell_type": "markdown",
   "id": "5f8ca755-972f-4524-ad23-e2631198a813",
   "metadata": {},
   "source": [
    "Resultado: Se guarda el vectorizador TF-IDF y el mejor modelo entrenado en la carpeta artefactos_modelo/. También se exporta un CSV con las métricas finales en el conjunto de test."
   ]
  },
  {
   "cell_type": "markdown",
   "id": "072b5ba3-d0b7-419e-ae3f-e9d4a92cd553",
   "metadata": {},
   "source": [
    "## Reporte final del mejor modelo"
   ]
  },
  {
   "cell_type": "code",
   "execution_count": 45,
   "id": "a9b45c10-e2f6-48c6-a125-ce6506ed3b70",
   "metadata": {},
   "outputs": [
    {
     "name": "stdout",
     "output_type": "stream",
     "text": [
      "              precision    recall  f1-score   support\n",
      "\n",
      "           1      0.951     0.960     0.956       101\n",
      "           3      0.977     0.961     0.969       179\n",
      "           4      0.971     0.980     0.976       205\n",
      "\n",
      "    accuracy                          0.969       485\n",
      "   macro avg      0.966     0.967     0.967       485\n",
      "weighted avg      0.969     0.969     0.969       485\n",
      "\n"
     ]
    }
   ],
   "source": [
    "y_pred_best = model_objects[mejor].predict(X_test)\n",
    "print(classification_report(y_test, y_pred_best, digits=3))"
   ]
  },
  {
   "cell_type": "markdown",
   "id": "84657bae-cb48-488e-815b-f6f7c6cfdab5",
   "metadata": {},
   "source": [
    "Se genera un classification report detallado (precision, recall y F1 por clase) para el modelo seleccionado como el mejor."
   ]
  },
  {
   "cell_type": "markdown",
   "id": "4db70c27-a40a-4cb1-963d-f5ba84102278",
   "metadata": {},
   "source": [
    "## Exportación de resultados del mejor modelo"
   ]
  },
  {
   "cell_type": "code",
   "execution_count": 46,
   "id": "5350b8f1-d0f1-4e93-9c12-0da5469fdf3a",
   "metadata": {},
   "outputs": [
    {
     "name": "stdout",
     "output_type": "stream",
     "text": [
      "Archivo de resultados exportado a: resultados_test.xlsx\n"
     ]
    }
   ],
   "source": [
    "y_pred_final = best_model.predict(X_test)\n",
    "\n",
    "test_resultados = test_df.copy()\n",
    "test_resultados[\"prediccion_modelo\"] = y_pred_final\n",
    "\n",
    "ruta_salida = \"resultados_test.xlsx\"\n",
    "test_resultados.to_excel(ruta_salida, index=False)\n",
    "\n",
    "print(f\"Archivo de resultados exportado a: {ruta_salida}\")"
   ]
  },
  {
   "cell_type": "markdown",
   "id": "458e1a4b-2942-4b47-bacf-693e31ee1b30",
   "metadata": {},
   "source": [
    "En esta parte se generan las predicciones finales del mejor modelo seleccionado (SVM Lineal) sobre el conjunto de prueba.  \n",
    "Se crea una copia del dataset de prueba y se añade la columna prediccion_modelo con las etiquetas asignadas por el modelo.  \n",
    "Finalmente, los resultados son exportados a un archivo Excel, el cual se entrega como insumo para la evaluación comparativa del desempeño del modelo."
   ]
  },
  {
   "cell_type": "code",
   "execution_count": null,
   "id": "dff88533-a8d6-4966-922e-59e43afb45b5",
   "metadata": {},
   "outputs": [],
   "source": []
  }
 ],
 "metadata": {
  "kernelspec": {
   "display_name": "Python 3 (ipykernel)",
   "language": "python",
   "name": "python3"
  },
  "language_info": {
   "codemirror_mode": {
    "name": "ipython",
    "version": 3
   },
   "file_extension": ".py",
   "mimetype": "text/x-python",
   "name": "python",
   "nbconvert_exporter": "python",
   "pygments_lexer": "ipython3",
   "version": "3.13.5"
  }
 },
 "nbformat": 4,
 "nbformat_minor": 5
}
